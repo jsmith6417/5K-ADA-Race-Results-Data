{
 "cells": [
  {
   "cell_type": "markdown",
   "metadata": {},
   "source": [
    "# **Clean and Prep ADA Race Results v2 - SQLite**"
   ]
  },
  {
   "cell_type": "markdown",
   "metadata": {},
   "source": [
    "Cleans and standardizes 5K@ADA race results by removing duplicates, translating gender values into English, and updating a local SQLite database. Participant names are used briefly for deduplication and then discarded to maintain privacy."
   ]
  },
  {
   "cell_type": "markdown",
   "metadata": {},
   "source": [
    "Run on Python 3.13 | No errors | No warnings"
   ]
  },
  {
   "cell_type": "code",
   "execution_count": 1,
   "metadata": {},
   "outputs": [],
   "source": [
    "# Import packages\n",
    "\n",
    "# For data manipulation\n",
    "import pandas as pd\n",
    "\n",
    "# for displaying and modifying the working directory\n",
    "import os as os\n",
    "\n",
    "# For working with SQLite databases\n",
    "import sqlite3"
   ]
  },
  {
   "cell_type": "code",
   "execution_count": 2,
   "metadata": {},
   "outputs": [],
   "source": [
    "# Load the SQL Magic extension\n",
    "%load_ext sql"
   ]
  },
  {
   "cell_type": "code",
   "execution_count": 3,
   "metadata": {},
   "outputs": [
    {
     "data": {
      "text/html": [
       "<span style=\"None\">Connecting to &#x27;sqlite:///ADARaceResults.db&#x27;</span>"
      ],
      "text/plain": [
       "Connecting to 'sqlite:///ADARaceResults.db'"
      ]
     },
     "metadata": {},
     "output_type": "display_data"
    }
   ],
   "source": [
    "# Create connection to the SQLite database\n",
    "%sql sqlite:///ADARaceResults.db"
   ]
  },
  {
   "cell_type": "code",
   "execution_count": 4,
   "metadata": {},
   "outputs": [],
   "source": [
    "# Define custom NA values, excluding 'NA' to make sure that Country Code NA (Namibia) is not interpreted as missing data\n",
    "custom_na_values = ['N/A', 'NaN', 'null', '']"
   ]
  },
  {
   "cell_type": "code",
   "execution_count": 5,
   "metadata": {},
   "outputs": [
    {
     "data": {
      "text/html": [
       "<div>\n",
       "<style scoped>\n",
       "    .dataframe tbody tr th:only-of-type {\n",
       "        vertical-align: middle;\n",
       "    }\n",
       "\n",
       "    .dataframe tbody tr th {\n",
       "        vertical-align: top;\n",
       "    }\n",
       "\n",
       "    .dataframe thead th {\n",
       "        text-align: right;\n",
       "    }\n",
       "</style>\n",
       "<table border=\"1\" class=\"dataframe\">\n",
       "  <thead>\n",
       "    <tr style=\"text-align: right;\">\n",
       "      <th></th>\n",
       "      <th>Name</th>\n",
       "      <th>Gender</th>\n",
       "      <th>Country</th>\n",
       "      <th>Time</th>\n",
       "      <th>Enrollment</th>\n",
       "    </tr>\n",
       "  </thead>\n",
       "  <tbody>\n",
       "    <tr>\n",
       "      <th>0</th>\n",
       "      <td>Yousif Alghaderi</td>\n",
       "      <td>Male</td>\n",
       "      <td>BH</td>\n",
       "      <td>00:14:45</td>\n",
       "      <td>Run / Walk</td>\n",
       "    </tr>\n",
       "    <tr>\n",
       "      <th>1</th>\n",
       "      <td>Yousif Alghaderi</td>\n",
       "      <td>Male</td>\n",
       "      <td>BH</td>\n",
       "      <td>00:14:45</td>\n",
       "      <td>Run / Walk</td>\n",
       "    </tr>\n",
       "    <tr>\n",
       "      <th>2</th>\n",
       "      <td>Mohamed Alsharkaoy</td>\n",
       "      <td>Male</td>\n",
       "      <td>EG</td>\n",
       "      <td>00:14:45</td>\n",
       "      <td>Run / Walk</td>\n",
       "    </tr>\n",
       "    <tr>\n",
       "      <th>3</th>\n",
       "      <td>Muntasir Ahmad Abdul Kareem Alzghoul</td>\n",
       "      <td>Male</td>\n",
       "      <td>JO</td>\n",
       "      <td>00:14:45</td>\n",
       "      <td>Run / Walk</td>\n",
       "    </tr>\n",
       "    <tr>\n",
       "      <th>4</th>\n",
       "      <td>Muntasir Ahmad Abdul Kareem Alzghoul</td>\n",
       "      <td>Male</td>\n",
       "      <td>JO</td>\n",
       "      <td>00:14:45</td>\n",
       "      <td>Handcycle / Wheelchair</td>\n",
       "    </tr>\n",
       "  </tbody>\n",
       "</table>\n",
       "</div>"
      ],
      "text/plain": [
       "                                   Name Gender Country      Time  \\\n",
       "0                      Yousif Alghaderi   Male      BH  00:14:45   \n",
       "1                      Yousif Alghaderi   Male      BH  00:14:45   \n",
       "2                    Mohamed Alsharkaoy   Male      EG  00:14:45   \n",
       "3  Muntasir Ahmad Abdul Kareem Alzghoul   Male      JO  00:14:45   \n",
       "4  Muntasir Ahmad Abdul Kareem Alzghoul   Male      JO  00:14:45   \n",
       "\n",
       "               Enrollment  \n",
       "0              Run / Walk  \n",
       "1              Run / Walk  \n",
       "2              Run / Walk  \n",
       "3              Run / Walk  \n",
       "4  Handcycle / Wheelchair  "
      ]
     },
     "execution_count": 5,
     "metadata": {},
     "output_type": "execute_result"
    }
   ],
   "source": [
    "#Load specific columns, ignore the default NA values and use the custom ones\n",
    "df0 = pd.read_csv(\"ADA_race_results.csv\", usecols=['Name', 'Country', 'Time', 'Enrollment', 'Gender'], keep_default_na=False, na_values=custom_na_values)\n",
    "\n",
    "# Display the first 5 rows of the dataframe\n",
    "df0.head()"
   ]
  },
  {
   "cell_type": "code",
   "execution_count": 6,
   "metadata": {},
   "outputs": [
    {
     "name": "stdout",
     "output_type": "stream",
     "text": [
      "<class 'pandas.core.frame.DataFrame'>\n",
      "RangeIndex: 7048 entries, 0 to 7047\n",
      "Data columns (total 5 columns):\n",
      " #   Column      Non-Null Count  Dtype \n",
      "---  ------      --------------  ----- \n",
      " 0   Name        7048 non-null   object\n",
      " 1   Gender      7048 non-null   object\n",
      " 2   Country     7048 non-null   object\n",
      " 3   Time        7048 non-null   object\n",
      " 4   Enrollment  7048 non-null   object\n",
      "dtypes: object(5)\n",
      "memory usage: 275.4+ KB\n"
     ]
    }
   ],
   "source": [
    "# Display basic information about the data \n",
    "df0.info()"
   ]
  },
  {
   "cell_type": "code",
   "execution_count": 7,
   "metadata": {},
   "outputs": [
    {
     "data": {
      "text/plain": [
       "Name          0\n",
       "Gender        0\n",
       "Country       0\n",
       "Time          0\n",
       "Enrollment    0\n",
       "dtype: int64"
      ]
     },
     "execution_count": 7,
     "metadata": {},
     "output_type": "execute_result"
    }
   ],
   "source": [
    "# Display the number of missing values in each column\n",
    "df0.isnull().sum()"
   ]
  },
  {
   "cell_type": "code",
   "execution_count": 8,
   "metadata": {},
   "outputs": [
    {
     "name": "stdout",
     "output_type": "stream",
     "text": [
      "<class 'pandas.core.frame.DataFrame'>\n",
      "RangeIndex: 7048 entries, 0 to 7047\n",
      "Data columns (total 5 columns):\n",
      " #   Column      Non-Null Count  Dtype \n",
      "---  ------      --------------  ----- \n",
      " 0   Name        7048 non-null   object\n",
      " 1   Gender      7048 non-null   object\n",
      " 2   Country     7048 non-null   object\n",
      " 3   Time        7048 non-null   object\n",
      " 4   Enrollment  7048 non-null   object\n",
      "dtypes: object(5)\n",
      "memory usage: 275.4+ KB\n"
     ]
    }
   ],
   "source": [
    "# Verify the duplicates have been removed\n",
    "df0.info()"
   ]
  },
  {
   "cell_type": "code",
   "execution_count": 9,
   "metadata": {},
   "outputs": [],
   "source": [
    "# Add a column for the year\n",
    "df0['Year'] = 2025"
   ]
  },
  {
   "cell_type": "code",
   "execution_count": 10,
   "metadata": {},
   "outputs": [],
   "source": [
    "# Add a column for the race name\n",
    "df0['Race'] = 'ADA'"
   ]
  },
  {
   "cell_type": "code",
   "execution_count": 11,
   "metadata": {},
   "outputs": [],
   "source": [
    "# Update Gender values\n",
    "gender_map = {\n",
    "    'Masculino': 'Male',\n",
    "    'Femenino': 'Female',\n",
    "    'Desconocido': 'Unknown',\n",
    "    '男性': 'Male',\n",
    "    '女性': 'Female',\n",
    "    'ç”·æ€§': 'Male',     # Unicode mishandling\n",
    "    'å¥³æ€§': 'Female',   # Unicode mishandling\n",
    "    '分からない': 'Unknown',\n",
    "}\n",
    "df0['Gender'] = df0['Gender'].replace(gender_map)"
   ]
  },
  {
   "cell_type": "code",
   "execution_count": 12,
   "metadata": {},
   "outputs": [
    {
     "data": {
      "text/html": [
       "<div>\n",
       "<style scoped>\n",
       "    .dataframe tbody tr th:only-of-type {\n",
       "        vertical-align: middle;\n",
       "    }\n",
       "\n",
       "    .dataframe tbody tr th {\n",
       "        vertical-align: top;\n",
       "    }\n",
       "\n",
       "    .dataframe thead th {\n",
       "        text-align: right;\n",
       "    }\n",
       "</style>\n",
       "<table border=\"1\" class=\"dataframe\">\n",
       "  <thead>\n",
       "    <tr style=\"text-align: right;\">\n",
       "      <th></th>\n",
       "      <th>Name</th>\n",
       "      <th>Gender</th>\n",
       "      <th>Country</th>\n",
       "      <th>Time</th>\n",
       "      <th>Enrollment</th>\n",
       "      <th>Year</th>\n",
       "      <th>Race</th>\n",
       "    </tr>\n",
       "  </thead>\n",
       "  <tbody>\n",
       "    <tr>\n",
       "      <th>0</th>\n",
       "      <td>Yousif Alghaderi</td>\n",
       "      <td>Male</td>\n",
       "      <td>BH</td>\n",
       "      <td>00:14:45</td>\n",
       "      <td>Run / Walk</td>\n",
       "      <td>2025</td>\n",
       "      <td>ADA</td>\n",
       "    </tr>\n",
       "    <tr>\n",
       "      <th>1</th>\n",
       "      <td>Yousif Alghaderi</td>\n",
       "      <td>Male</td>\n",
       "      <td>BH</td>\n",
       "      <td>00:14:45</td>\n",
       "      <td>Run / Walk</td>\n",
       "      <td>2025</td>\n",
       "      <td>ADA</td>\n",
       "    </tr>\n",
       "    <tr>\n",
       "      <th>2</th>\n",
       "      <td>Mohamed Alsharkaoy</td>\n",
       "      <td>Male</td>\n",
       "      <td>EG</td>\n",
       "      <td>00:14:45</td>\n",
       "      <td>Run / Walk</td>\n",
       "      <td>2025</td>\n",
       "      <td>ADA</td>\n",
       "    </tr>\n",
       "    <tr>\n",
       "      <th>3</th>\n",
       "      <td>Muntasir Ahmad Abdul Kareem Alzghoul</td>\n",
       "      <td>Male</td>\n",
       "      <td>JO</td>\n",
       "      <td>00:14:45</td>\n",
       "      <td>Run / Walk</td>\n",
       "      <td>2025</td>\n",
       "      <td>ADA</td>\n",
       "    </tr>\n",
       "    <tr>\n",
       "      <th>4</th>\n",
       "      <td>Muntasir Ahmad Abdul Kareem Alzghoul</td>\n",
       "      <td>Male</td>\n",
       "      <td>JO</td>\n",
       "      <td>00:14:45</td>\n",
       "      <td>Handcycle / Wheelchair</td>\n",
       "      <td>2025</td>\n",
       "      <td>ADA</td>\n",
       "    </tr>\n",
       "  </tbody>\n",
       "</table>\n",
       "</div>"
      ],
      "text/plain": [
       "                                   Name Gender Country      Time  \\\n",
       "0                      Yousif Alghaderi   Male      BH  00:14:45   \n",
       "1                      Yousif Alghaderi   Male      BH  00:14:45   \n",
       "2                    Mohamed Alsharkaoy   Male      EG  00:14:45   \n",
       "3  Muntasir Ahmad Abdul Kareem Alzghoul   Male      JO  00:14:45   \n",
       "4  Muntasir Ahmad Abdul Kareem Alzghoul   Male      JO  00:14:45   \n",
       "\n",
       "               Enrollment  Year Race  \n",
       "0              Run / Walk  2025  ADA  \n",
       "1              Run / Walk  2025  ADA  \n",
       "2              Run / Walk  2025  ADA  \n",
       "3              Run / Walk  2025  ADA  \n",
       "4  Handcycle / Wheelchair  2025  ADA  "
      ]
     },
     "execution_count": 12,
     "metadata": {},
     "output_type": "execute_result"
    }
   ],
   "source": [
    "# Verify the changes\n",
    "df0.head()"
   ]
  },
  {
   "cell_type": "code",
   "execution_count": 13,
   "metadata": {},
   "outputs": [],
   "source": [
    "# Rename Country to Country Code\n",
    "df0 = df0.rename(columns={'Country': 'Country Code'})"
   ]
  },
  {
   "cell_type": "code",
   "execution_count": 14,
   "metadata": {},
   "outputs": [],
   "source": [
    "# Rename Gender column to Age Group\n",
    "df0 = df0.rename(columns={'Gender': 'Age Group'})"
   ]
  },
  {
   "cell_type": "code",
   "execution_count": 15,
   "metadata": {},
   "outputs": [],
   "source": [
    "# Change the column order\n",
    "df0 = df0[['Race', 'Year', 'Country Code', 'Age Group', 'Time', 'Enrollment', 'Name']]"
   ]
  },
  {
   "cell_type": "code",
   "execution_count": 16,
   "metadata": {},
   "outputs": [
    {
     "data": {
      "text/html": [
       "<div>\n",
       "<style scoped>\n",
       "    .dataframe tbody tr th:only-of-type {\n",
       "        vertical-align: middle;\n",
       "    }\n",
       "\n",
       "    .dataframe tbody tr th {\n",
       "        vertical-align: top;\n",
       "    }\n",
       "\n",
       "    .dataframe thead th {\n",
       "        text-align: right;\n",
       "    }\n",
       "</style>\n",
       "<table border=\"1\" class=\"dataframe\">\n",
       "  <thead>\n",
       "    <tr style=\"text-align: right;\">\n",
       "      <th></th>\n",
       "      <th>Race</th>\n",
       "      <th>Year</th>\n",
       "      <th>Country Code</th>\n",
       "      <th>Age Group</th>\n",
       "      <th>Time</th>\n",
       "      <th>Enrollment</th>\n",
       "      <th>Name</th>\n",
       "    </tr>\n",
       "  </thead>\n",
       "  <tbody>\n",
       "    <tr>\n",
       "      <th>0</th>\n",
       "      <td>ADA</td>\n",
       "      <td>2025</td>\n",
       "      <td>BH</td>\n",
       "      <td>Male</td>\n",
       "      <td>00:14:45</td>\n",
       "      <td>Run / Walk</td>\n",
       "      <td>Yousif Alghaderi</td>\n",
       "    </tr>\n",
       "    <tr>\n",
       "      <th>1</th>\n",
       "      <td>ADA</td>\n",
       "      <td>2025</td>\n",
       "      <td>BH</td>\n",
       "      <td>Male</td>\n",
       "      <td>00:14:45</td>\n",
       "      <td>Run / Walk</td>\n",
       "      <td>Yousif Alghaderi</td>\n",
       "    </tr>\n",
       "    <tr>\n",
       "      <th>2</th>\n",
       "      <td>ADA</td>\n",
       "      <td>2025</td>\n",
       "      <td>EG</td>\n",
       "      <td>Male</td>\n",
       "      <td>00:14:45</td>\n",
       "      <td>Run / Walk</td>\n",
       "      <td>Mohamed Alsharkaoy</td>\n",
       "    </tr>\n",
       "    <tr>\n",
       "      <th>3</th>\n",
       "      <td>ADA</td>\n",
       "      <td>2025</td>\n",
       "      <td>JO</td>\n",
       "      <td>Male</td>\n",
       "      <td>00:14:45</td>\n",
       "      <td>Run / Walk</td>\n",
       "      <td>Muntasir Ahmad Abdul Kareem Alzghoul</td>\n",
       "    </tr>\n",
       "    <tr>\n",
       "      <th>4</th>\n",
       "      <td>ADA</td>\n",
       "      <td>2025</td>\n",
       "      <td>JO</td>\n",
       "      <td>Male</td>\n",
       "      <td>00:14:45</td>\n",
       "      <td>Handcycle / Wheelchair</td>\n",
       "      <td>Muntasir Ahmad Abdul Kareem Alzghoul</td>\n",
       "    </tr>\n",
       "  </tbody>\n",
       "</table>\n",
       "</div>"
      ],
      "text/plain": [
       "  Race  Year Country Code Age Group      Time              Enrollment  \\\n",
       "0  ADA  2025           BH      Male  00:14:45              Run / Walk   \n",
       "1  ADA  2025           BH      Male  00:14:45              Run / Walk   \n",
       "2  ADA  2025           EG      Male  00:14:45              Run / Walk   \n",
       "3  ADA  2025           JO      Male  00:14:45              Run / Walk   \n",
       "4  ADA  2025           JO      Male  00:14:45  Handcycle / Wheelchair   \n",
       "\n",
       "                                   Name  \n",
       "0                      Yousif Alghaderi  \n",
       "1                      Yousif Alghaderi  \n",
       "2                    Mohamed Alsharkaoy  \n",
       "3  Muntasir Ahmad Abdul Kareem Alzghoul  \n",
       "4  Muntasir Ahmad Abdul Kareem Alzghoul  "
      ]
     },
     "execution_count": 16,
     "metadata": {},
     "output_type": "execute_result"
    }
   ],
   "source": [
    "# Verify the changes\n",
    "df0.head()"
   ]
  },
  {
   "cell_type": "code",
   "execution_count": 17,
   "metadata": {},
   "outputs": [
    {
     "data": {
      "text/plain": [
       "array(['Male', 'Female', 'Non-binary', 'Unknown'], dtype=object)"
      ]
     },
     "execution_count": 17,
     "metadata": {},
     "output_type": "execute_result"
    }
   ],
   "source": [
    "# Display a list of unique values for Age Group\n",
    "df0['Age Group'].unique()"
   ]
  },
  {
   "cell_type": "code",
   "execution_count": 18,
   "metadata": {},
   "outputs": [
    {
     "data": {
      "text/plain": [
       "7048"
      ]
     },
     "execution_count": 18,
     "metadata": {},
     "output_type": "execute_result"
    }
   ],
   "source": [
    "# Load the dataframe into the SQLite database\n",
    "df0.to_sql(\"ADA_RACE_DATA\", con=sqlite3.connect('ADARaceResults.db'), if_exists='append', index=False)"
   ]
  },
  {
   "cell_type": "code",
   "execution_count": 19,
   "metadata": {},
   "outputs": [
    {
     "data": {
      "text/html": [
       "<span style=\"None\">Running query in &#x27;sqlite:///ADARaceResults.db&#x27;</span>"
      ],
      "text/plain": [
       "Running query in 'sqlite:///ADARaceResults.db'"
      ]
     },
     "metadata": {},
     "output_type": "display_data"
    },
    {
     "data": {
      "text/html": [
       "<table>\n",
       "    <thead>\n",
       "        <tr>\n",
       "        </tr>\n",
       "    </thead>\n",
       "    <tbody>\n",
       "    </tbody>\n",
       "</table>"
      ],
      "text/plain": [
       "++\n",
       "||\n",
       "++\n",
       "++"
      ]
     },
     "execution_count": 19,
     "metadata": {},
     "output_type": "execute_result"
    }
   ],
   "source": [
    "%%sql\n",
    "DELETE FROM ADA_RACE_DATA\n",
    "WHERE \"Age Group\" IN (\n",
    "    '女性',\n",
    "    '男性',\n",
    "    'ç”·æ€§',\n",
    "    'å¥³æ€§',\n",
    "    '分からない'\n",
    ");"
   ]
  },
  {
   "cell_type": "code",
   "execution_count": 20,
   "metadata": {},
   "outputs": [
    {
     "data": {
      "text/html": [
       "<span style=\"None\">Running query in &#x27;sqlite:///ADARaceResults.db&#x27;</span>"
      ],
      "text/plain": [
       "Running query in 'sqlite:///ADARaceResults.db'"
      ]
     },
     "metadata": {},
     "output_type": "display_data"
    },
    {
     "data": {
      "text/html": [
       "<table>\n",
       "    <thead>\n",
       "        <tr>\n",
       "            <th>cid</th>\n",
       "            <th>name</th>\n",
       "            <th>type</th>\n",
       "            <th>notnull</th>\n",
       "            <th>dflt_value</th>\n",
       "            <th>pk</th>\n",
       "        </tr>\n",
       "    </thead>\n",
       "    <tbody>\n",
       "        <tr>\n",
       "            <td>0</td>\n",
       "            <td>Race</td>\n",
       "            <td>TEXT</td>\n",
       "            <td>0</td>\n",
       "            <td>None</td>\n",
       "            <td>0</td>\n",
       "        </tr>\n",
       "        <tr>\n",
       "            <td>1</td>\n",
       "            <td>Year</td>\n",
       "            <td>INTEGER</td>\n",
       "            <td>0</td>\n",
       "            <td>None</td>\n",
       "            <td>0</td>\n",
       "        </tr>\n",
       "        <tr>\n",
       "            <td>2</td>\n",
       "            <td>Country Code</td>\n",
       "            <td>TEXT</td>\n",
       "            <td>0</td>\n",
       "            <td>None</td>\n",
       "            <td>0</td>\n",
       "        </tr>\n",
       "        <tr>\n",
       "            <td>3</td>\n",
       "            <td>Age Group</td>\n",
       "            <td>TEXT</td>\n",
       "            <td>0</td>\n",
       "            <td>None</td>\n",
       "            <td>0</td>\n",
       "        </tr>\n",
       "        <tr>\n",
       "            <td>4</td>\n",
       "            <td>Time</td>\n",
       "            <td>TEXT</td>\n",
       "            <td>0</td>\n",
       "            <td>None</td>\n",
       "            <td>0</td>\n",
       "        </tr>\n",
       "        <tr>\n",
       "            <td>5</td>\n",
       "            <td>Enrollment</td>\n",
       "            <td>TEXT</td>\n",
       "            <td>0</td>\n",
       "            <td>None</td>\n",
       "            <td>0</td>\n",
       "        </tr>\n",
       "        <tr>\n",
       "            <td>6</td>\n",
       "            <td>Name</td>\n",
       "            <td>TEXT</td>\n",
       "            <td>0</td>\n",
       "            <td>None</td>\n",
       "            <td>0</td>\n",
       "        </tr>\n",
       "    </tbody>\n",
       "</table>"
      ],
      "text/plain": [
       "+-----+--------------+---------+---------+------------+----+\n",
       "| cid |     name     |   type  | notnull | dflt_value | pk |\n",
       "+-----+--------------+---------+---------+------------+----+\n",
       "|  0  |     Race     |   TEXT  |    0    |    None    | 0  |\n",
       "|  1  |     Year     | INTEGER |    0    |    None    | 0  |\n",
       "|  2  | Country Code |   TEXT  |    0    |    None    | 0  |\n",
       "|  3  |  Age Group   |   TEXT  |    0    |    None    | 0  |\n",
       "|  4  |     Time     |   TEXT  |    0    |    None    | 0  |\n",
       "|  5  |  Enrollment  |   TEXT  |    0    |    None    | 0  |\n",
       "|  6  |     Name     |   TEXT  |    0    |    None    | 0  |\n",
       "+-----+--------------+---------+---------+------------+----+"
      ]
     },
     "execution_count": 20,
     "metadata": {},
     "output_type": "execute_result"
    }
   ],
   "source": [
    "# Display column names and data types for the ADA_RACE_DATA table\n",
    "%sql PRAGMA table_info(ADA_RACE_DATA)"
   ]
  },
  {
   "cell_type": "code",
   "execution_count": 21,
   "metadata": {},
   "outputs": [
    {
     "data": {
      "text/html": [
       "<span style=\"None\">Running query in &#x27;sqlite:///ADARaceResults.db&#x27;</span>"
      ],
      "text/plain": [
       "Running query in 'sqlite:///ADARaceResults.db'"
      ]
     },
     "metadata": {},
     "output_type": "display_data"
    },
    {
     "data": {
      "text/html": [
       "<table>\n",
       "    <thead>\n",
       "        <tr>\n",
       "            <th>COUNT(*)</th>\n",
       "        </tr>\n",
       "    </thead>\n",
       "    <tbody>\n",
       "        <tr>\n",
       "            <td>19616</td>\n",
       "        </tr>\n",
       "    </tbody>\n",
       "</table>"
      ],
      "text/plain": [
       "+----------+\n",
       "| COUNT(*) |\n",
       "+----------+\n",
       "|  19616   |\n",
       "+----------+"
      ]
     },
     "execution_count": 21,
     "metadata": {},
     "output_type": "execute_result"
    }
   ],
   "source": [
    "# Get the record count for ADA_RACE_DATA\n",
    "%sql SELECT COUNT(*) FROM ADA_RACE_DATA"
   ]
  },
  {
   "cell_type": "code",
   "execution_count": 22,
   "metadata": {},
   "outputs": [
    {
     "data": {
      "text/html": [
       "<span style=\"None\">Running query in &#x27;sqlite:///ADARaceResults.db&#x27;</span>"
      ],
      "text/plain": [
       "Running query in 'sqlite:///ADARaceResults.db'"
      ]
     },
     "metadata": {},
     "output_type": "display_data"
    },
    {
     "data": {
      "text/html": [
       "<table>\n",
       "    <thead>\n",
       "        <tr>\n",
       "            <th>total_duplicates</th>\n",
       "        </tr>\n",
       "    </thead>\n",
       "    <tbody>\n",
       "        <tr>\n",
       "            <td>7039</td>\n",
       "        </tr>\n",
       "    </tbody>\n",
       "</table>"
      ],
      "text/plain": [
       "+------------------+\n",
       "| total_duplicates |\n",
       "+------------------+\n",
       "|       7039       |\n",
       "+------------------+"
      ]
     },
     "execution_count": 22,
     "metadata": {},
     "output_type": "execute_result"
    }
   ],
   "source": [
    "%%sql\n",
    "-- Find the total count of duplicate rows in the ADA_RACE_DATA table\n",
    "SELECT SUM(duplicate_count - 1) AS total_duplicates\n",
    "FROM (\n",
    "    SELECT COUNT(*) AS duplicate_count\n",
    "    FROM ADA_RACE_DATA\n",
    "    GROUP BY \"Race\", \"Year\", \"Country Code\", \"Age Group\", \"Time\", \"Enrollment\", \"Name\"\n",
    "    HAVING COUNT(*) > 1\n",
    ") AS duplicates;"
   ]
  },
  {
   "cell_type": "code",
   "execution_count": 23,
   "metadata": {},
   "outputs": [
    {
     "data": {
      "text/html": [
       "<span style=\"None\">Running query in &#x27;sqlite:///ADARaceResults.db&#x27;</span>"
      ],
      "text/plain": [
       "Running query in 'sqlite:///ADARaceResults.db'"
      ]
     },
     "metadata": {},
     "output_type": "display_data"
    },
    {
     "data": {
      "text/html": [
       "<span style=\"color: green\">7039 rows affected.</span>"
      ],
      "text/plain": [
       "7039 rows affected."
      ]
     },
     "metadata": {},
     "output_type": "display_data"
    },
    {
     "data": {
      "text/html": [
       "<table>\n",
       "    <thead>\n",
       "        <tr>\n",
       "        </tr>\n",
       "    </thead>\n",
       "    <tbody>\n",
       "    </tbody>\n",
       "</table>"
      ],
      "text/plain": [
       "++\n",
       "||\n",
       "++\n",
       "++"
      ]
     },
     "execution_count": 23,
     "metadata": {},
     "output_type": "execute_result"
    }
   ],
   "source": [
    "%%sql\n",
    "-- Delete duplicate rows in the ADA_RACE_DATA table\n",
    "DELETE FROM ADA_RACE_DATA\n",
    "WHERE rowid NOT IN (\n",
    "    SELECT MIN(rowid)\n",
    "    FROM ADA_RACE_DATA\n",
    "    GROUP BY \"Race\", \"Year\", \"Country Code\", \"Age Group\", \"Time\", \"Enrollment\", \"Name\"\n",
    ");"
   ]
  },
  {
   "cell_type": "code",
   "execution_count": 24,
   "metadata": {},
   "outputs": [
    {
     "data": {
      "text/html": [
       "<span style=\"None\">Running query in &#x27;sqlite:///ADARaceResults.db&#x27;</span>"
      ],
      "text/plain": [
       "Running query in 'sqlite:///ADARaceResults.db'"
      ]
     },
     "metadata": {},
     "output_type": "display_data"
    },
    {
     "data": {
      "text/html": [
       "<table>\n",
       "    <thead>\n",
       "        <tr>\n",
       "            <th>COUNT(*)</th>\n",
       "        </tr>\n",
       "    </thead>\n",
       "    <tbody>\n",
       "        <tr>\n",
       "            <td>12577</td>\n",
       "        </tr>\n",
       "    </tbody>\n",
       "</table>"
      ],
      "text/plain": [
       "+----------+\n",
       "| COUNT(*) |\n",
       "+----------+\n",
       "|  12577   |\n",
       "+----------+"
      ]
     },
     "execution_count": 24,
     "metadata": {},
     "output_type": "execute_result"
    }
   ],
   "source": [
    "# Get the record count for ADA_RACE_DATA\n",
    "%sql SELECT COUNT(*) FROM ADA_RACE_DATA"
   ]
  },
  {
   "cell_type": "code",
   "execution_count": 25,
   "metadata": {},
   "outputs": [
    {
     "data": {
      "text/html": [
       "<span style=\"None\">Running query in &#x27;sqlite:///ADARaceResults.db&#x27;</span>"
      ],
      "text/plain": [
       "Running query in 'sqlite:///ADARaceResults.db'"
      ]
     },
     "metadata": {},
     "output_type": "display_data"
    }
   ],
   "source": [
    "# Retrieve all data from the ADA_RACE_DATA table\n",
    "df = %sql SELECT * FROM ADA_RACE_DATA\n",
    "\n",
    "# Convert the ResultSet to a DataFrame\n",
    "df1 = df.DataFrame()"
   ]
  },
  {
   "cell_type": "code",
   "execution_count": 26,
   "metadata": {},
   "outputs": [
    {
     "data": {
      "text/html": [
       "<div>\n",
       "<style scoped>\n",
       "    .dataframe tbody tr th:only-of-type {\n",
       "        vertical-align: middle;\n",
       "    }\n",
       "\n",
       "    .dataframe tbody tr th {\n",
       "        vertical-align: top;\n",
       "    }\n",
       "\n",
       "    .dataframe thead th {\n",
       "        text-align: right;\n",
       "    }\n",
       "</style>\n",
       "<table border=\"1\" class=\"dataframe\">\n",
       "  <thead>\n",
       "    <tr style=\"text-align: right;\">\n",
       "      <th></th>\n",
       "      <th>Race</th>\n",
       "      <th>Year</th>\n",
       "      <th>Country Code</th>\n",
       "      <th>Age Group</th>\n",
       "      <th>Time</th>\n",
       "      <th>Enrollment</th>\n",
       "      <th>Name</th>\n",
       "    </tr>\n",
       "  </thead>\n",
       "  <tbody>\n",
       "    <tr>\n",
       "      <th>0</th>\n",
       "      <td>ADA</td>\n",
       "      <td>2024</td>\n",
       "      <td>TD</td>\n",
       "      <td>30 - 34</td>\n",
       "      <td>0:14:45</td>\n",
       "      <td>Run / Walk</td>\n",
       "      <td>A</td>\n",
       "    </tr>\n",
       "    <tr>\n",
       "      <th>1</th>\n",
       "      <td>ADA</td>\n",
       "      <td>2024</td>\n",
       "      <td>CO</td>\n",
       "      <td>20 - 24</td>\n",
       "      <td>0:14:45</td>\n",
       "      <td>Run / Walk</td>\n",
       "      <td>B</td>\n",
       "    </tr>\n",
       "    <tr>\n",
       "      <th>2</th>\n",
       "      <td>ADA</td>\n",
       "      <td>2024</td>\n",
       "      <td>ZA</td>\n",
       "      <td>35 - 39</td>\n",
       "      <td>0:14:45</td>\n",
       "      <td>Run / Walk</td>\n",
       "      <td>C</td>\n",
       "    </tr>\n",
       "    <tr>\n",
       "      <th>3</th>\n",
       "      <td>ADA</td>\n",
       "      <td>2024</td>\n",
       "      <td>US</td>\n",
       "      <td>40 - 44</td>\n",
       "      <td>0:14:45</td>\n",
       "      <td>Run / Walk</td>\n",
       "      <td>D</td>\n",
       "    </tr>\n",
       "    <tr>\n",
       "      <th>4</th>\n",
       "      <td>ADA</td>\n",
       "      <td>2024</td>\n",
       "      <td>VE</td>\n",
       "      <td>50 - 54</td>\n",
       "      <td>0:14:45</td>\n",
       "      <td>Run / Walk</td>\n",
       "      <td>E</td>\n",
       "    </tr>\n",
       "  </tbody>\n",
       "</table>\n",
       "</div>"
      ],
      "text/plain": [
       "  Race  Year Country Code Age Group     Time  Enrollment Name\n",
       "0  ADA  2024           TD   30 - 34  0:14:45  Run / Walk    A\n",
       "1  ADA  2024           CO   20 - 24  0:14:45  Run / Walk    B\n",
       "2  ADA  2024           ZA   35 - 39  0:14:45  Run / Walk    C\n",
       "3  ADA  2024           US   40 - 44  0:14:45  Run / Walk    D\n",
       "4  ADA  2024           VE   50 - 54  0:14:45  Run / Walk    E"
      ]
     },
     "execution_count": 26,
     "metadata": {},
     "output_type": "execute_result"
    }
   ],
   "source": [
    "# Display the first 5 rows of the dataframe (df1)\n",
    "df1.head()"
   ]
  },
  {
   "cell_type": "code",
   "execution_count": 27,
   "metadata": {},
   "outputs": [
    {
     "name": "stdout",
     "output_type": "stream",
     "text": [
      "<class 'pandas.core.frame.DataFrame'>\n",
      "RangeIndex: 12577 entries, 0 to 12576\n",
      "Data columns (total 7 columns):\n",
      " #   Column        Non-Null Count  Dtype \n",
      "---  ------        --------------  ----- \n",
      " 0   Race          12577 non-null  object\n",
      " 1   Year          12577 non-null  int64 \n",
      " 2   Country Code  12577 non-null  object\n",
      " 3   Age Group     12577 non-null  object\n",
      " 4   Time          12577 non-null  object\n",
      " 5   Enrollment    12577 non-null  object\n",
      " 6   Name          12577 non-null  object\n",
      "dtypes: int64(1), object(6)\n",
      "memory usage: 687.9+ KB\n"
     ]
    }
   ],
   "source": [
    "# Display basic information about the data\n",
    "df1.info()"
   ]
  },
  {
   "cell_type": "code",
   "execution_count": 28,
   "metadata": {},
   "outputs": [],
   "source": [
    "# Drop the Name column\n",
    "df1 = df1.drop(columns=['Name'])"
   ]
  },
  {
   "cell_type": "code",
   "execution_count": 29,
   "metadata": {},
   "outputs": [],
   "source": [
    "df1 = df1.sort_values(by=[\"Race\", \"Year\", \"Time\"])"
   ]
  },
  {
   "cell_type": "code",
   "execution_count": 30,
   "metadata": {},
   "outputs": [
    {
     "data": {
      "text/html": [
       "<div>\n",
       "<style scoped>\n",
       "    .dataframe tbody tr th:only-of-type {\n",
       "        vertical-align: middle;\n",
       "    }\n",
       "\n",
       "    .dataframe tbody tr th {\n",
       "        vertical-align: top;\n",
       "    }\n",
       "\n",
       "    .dataframe thead th {\n",
       "        text-align: right;\n",
       "    }\n",
       "</style>\n",
       "<table border=\"1\" class=\"dataframe\">\n",
       "  <thead>\n",
       "    <tr style=\"text-align: right;\">\n",
       "      <th></th>\n",
       "      <th>Race</th>\n",
       "      <th>Year</th>\n",
       "      <th>Country Code</th>\n",
       "      <th>Age Group</th>\n",
       "      <th>Time</th>\n",
       "      <th>Enrollment</th>\n",
       "    </tr>\n",
       "  </thead>\n",
       "  <tbody>\n",
       "    <tr>\n",
       "      <th>0</th>\n",
       "      <td>ADA</td>\n",
       "      <td>2024</td>\n",
       "      <td>TD</td>\n",
       "      <td>30 - 34</td>\n",
       "      <td>0:14:45</td>\n",
       "      <td>Run / Walk</td>\n",
       "    </tr>\n",
       "    <tr>\n",
       "      <th>1</th>\n",
       "      <td>ADA</td>\n",
       "      <td>2024</td>\n",
       "      <td>CO</td>\n",
       "      <td>20 - 24</td>\n",
       "      <td>0:14:45</td>\n",
       "      <td>Run / Walk</td>\n",
       "    </tr>\n",
       "    <tr>\n",
       "      <th>2</th>\n",
       "      <td>ADA</td>\n",
       "      <td>2024</td>\n",
       "      <td>ZA</td>\n",
       "      <td>35 - 39</td>\n",
       "      <td>0:14:45</td>\n",
       "      <td>Run / Walk</td>\n",
       "    </tr>\n",
       "    <tr>\n",
       "      <th>3</th>\n",
       "      <td>ADA</td>\n",
       "      <td>2024</td>\n",
       "      <td>US</td>\n",
       "      <td>40 - 44</td>\n",
       "      <td>0:14:45</td>\n",
       "      <td>Run / Walk</td>\n",
       "    </tr>\n",
       "    <tr>\n",
       "      <th>4</th>\n",
       "      <td>ADA</td>\n",
       "      <td>2024</td>\n",
       "      <td>VE</td>\n",
       "      <td>50 - 54</td>\n",
       "      <td>0:14:45</td>\n",
       "      <td>Run / Walk</td>\n",
       "    </tr>\n",
       "  </tbody>\n",
       "</table>\n",
       "</div>"
      ],
      "text/plain": [
       "  Race  Year Country Code Age Group     Time  Enrollment\n",
       "0  ADA  2024           TD   30 - 34  0:14:45  Run / Walk\n",
       "1  ADA  2024           CO   20 - 24  0:14:45  Run / Walk\n",
       "2  ADA  2024           ZA   35 - 39  0:14:45  Run / Walk\n",
       "3  ADA  2024           US   40 - 44  0:14:45  Run / Walk\n",
       "4  ADA  2024           VE   50 - 54  0:14:45  Run / Walk"
      ]
     },
     "execution_count": 30,
     "metadata": {},
     "output_type": "execute_result"
    }
   ],
   "source": [
    "# Verify the change\n",
    "df1.head()"
   ]
  },
  {
   "cell_type": "code",
   "execution_count": 31,
   "metadata": {},
   "outputs": [],
   "source": [
    "# Save the cleaned data to a new csv file\n",
    "df1.to_csv('ADA Race Data for Visualization.csv', index=False)"
   ]
  }
 ],
 "metadata": {
  "kernelspec": {
   "display_name": "Python 3",
   "language": "python",
   "name": "python3"
  },
  "language_info": {
   "codemirror_mode": {
    "name": "ipython",
    "version": 3
   },
   "file_extension": ".py",
   "mimetype": "text/x-python",
   "name": "python",
   "nbconvert_exporter": "python",
   "pygments_lexer": "ipython3",
   "version": "3.13.5"
  }
 },
 "nbformat": 4,
 "nbformat_minor": 2
}

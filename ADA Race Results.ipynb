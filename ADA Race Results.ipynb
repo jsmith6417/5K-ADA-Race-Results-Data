{
 "cells": [
  {
   "cell_type": "markdown",
   "metadata": {},
   "source": [
    "# **ADA Race Results - Gather the Data**"
   ]
  },
  {
   "cell_type": "markdown",
   "metadata": {},
   "source": [
    "Run on Python 3.12 | No errors | No warnings"
   ]
  },
  {
   "cell_type": "markdown",
   "metadata": {},
   "source": [
    "I created this program to automate the process of connecting to the race results, finding the headers, and extracting the data row by row across multiple pages. Manually selecting, copying, and pasting records is not only difficult and slow but also prone to errors. Initially, the dataset is small when results submission first opens, but it quickly grows to several thousand records once the event officially starts. Automating this process saves a great deal of time and reduces stress."
   ]
  },
  {
   "cell_type": "markdown",
   "metadata": {},
   "source": [
    "The 5K@ADA posts general participant data with no sensitive information, such as age, email, or precise location. The site has no restrictions on automated data collection methods."
   ]
  },
  {
   "cell_type": "code",
   "execution_count": 1,
   "metadata": {},
   "outputs": [],
   "source": [
    "# Step 0: Load the required libraries\n",
    "\n",
    "# To automate web browser interaction\n",
    "from selenium import webdriver\n",
    "from selenium.webdriver.common.by import By\n",
    "from selenium.webdriver.support.ui import WebDriverWait\n",
    "from selenium.webdriver.support import expected_conditions as EC\n",
    "\n",
    "# To parse the HTML content of a webpage\n",
    "from bs4 import BeautifulSoup\n",
    "\n",
    "# For data manipulation\n",
    "import pandas as pd\n",
    "\n",
    "# To handle regular expressions for pattern matching and string manipulation\n",
    "import re\n",
    "\n",
    "# For handling exceptions and adding delays\n",
    "import time"
   ]
  },
  {
   "cell_type": "code",
   "execution_count": 2,
   "metadata": {},
   "outputs": [],
   "source": [
    "# Step 1: Set up the WebDriver\n",
    "\n",
    "# Initialize the WebDriver (Chrome in this case) and navigate to the target URL\n",
    "driver = webdriver.Chrome()  # or `webdriver.Firefox()`, etc.\n",
    "url = \"https://results.raceroster.com/v2/en-US/results/mme3nnx552p7v7ks/results\"\n",
    "driver.get(url)"
   ]
  },
  {
   "cell_type": "code",
   "execution_count": 3,
   "metadata": {},
   "outputs": [],
   "source": [
    "# Step 2: Define a function to clean headers\n",
    "\n",
    "# This function removes unwanted text from headers and trims whitespace\n",
    "def clean_header(header):\n",
    "    return re.sub(r\"Click on any of the columns headers to apply sorting\", \"\", header).strip()"
   ]
  },
  {
   "cell_type": "code",
   "execution_count": 4,
   "metadata": {},
   "outputs": [],
   "source": [
    "# Step 3: Define a function to extract data from the current page\n",
    "def extract_data_from_page():\n",
    "    # Use BeautifulSoup to parse the loaded page\n",
    "    soup = BeautifulSoup(driver.page_source, 'html.parser')\n",
    "    \n",
    "    # Extract data\n",
    "    results = []\n",
    "    headers = []\n",
    "    \n",
    "    # Find the table body\n",
    "    table = soup.find('table')\n",
    "    if table is None:\n",
    "        raise ValueError(\"No table found on the page.\")\n",
    "    \n",
    "    # Find the table headers\n",
    "    thead = table.find('thead')\n",
    "    if thead:\n",
    "        headers = [clean_header(header.get_text(strip=True)) for header in thead.find_all('th')]\n",
    "    \n",
    "    # Extract the data rows from the table\n",
    "    tbody = table.find('tbody')\n",
    "    if tbody:\n",
    "        for row in tbody.find_all('tr'):\n",
    "            cells = row.find_all('td')\n",
    "            row_data = [cell.get_text(strip=True) for cell in cells]\n",
    "            results.append(row_data)\n",
    "    \n",
    "    return headers, results"
   ]
  },
  {
   "cell_type": "code",
   "execution_count": 5,
   "metadata": {},
   "outputs": [],
   "source": [
    "# Step 4: Initialize an empty list to store all results\n",
    "all_results = []\n",
    "headers = []"
   ]
  },
  {
   "cell_type": "code",
   "execution_count": 6,
   "metadata": {},
   "outputs": [],
   "source": [
    "# Step 5: Extract data from the first page\n",
    "page_headers, page_results = extract_data_from_page()\n",
    "if not headers:\n",
    "    headers = page_headers\n",
    "all_results.extend(page_results)"
   ]
  },
  {
   "cell_type": "code",
   "execution_count": 7,
   "metadata": {},
   "outputs": [
    {
     "name": "stdout",
     "output_type": "stream",
     "text": [
      "Stopping pagination: Message: \n",
      "\n"
     ]
    }
   ],
   "source": [
    "# Step 6: Loop through the pagination to extract data from subsequent pages\n",
    "while True:\n",
    "    try:\n",
    "        # Find the \"Next\" button using aria-label attribute\n",
    "        next_button = WebDriverWait(driver, 10).until(\n",
    "            EC.element_to_be_clickable((By.XPATH, \"//button[@aria-label='Next']\"))\n",
    "        )\n",
    "        \n",
    "        # Click the \"Next\" button using JavaScript to ensure it works\n",
    "        driver.execute_script(\"arguments[0].click();\", next_button)\n",
    "\n",
    "        # Wait for the next page to load by checking the table presence\n",
    "        time.sleep(3)  # Adding a sleep to ensure page loads completely\n",
    "        WebDriverWait(driver, 10).until(\n",
    "            EC.presence_of_element_located((By.CSS_SELECTOR, \"table\"))\n",
    "        )\n",
    "\n",
    "        # Extract data from the new page and add to all_results\n",
    "        page_headers, page_results = extract_data_from_page()\n",
    "        if not headers:\n",
    "            headers = page_headers\n",
    "        all_results.extend(page_results)\n",
    "\n",
    "    except Exception as e:\n",
    "        # If there is no \"Next\" button or another issue, break the loop\n",
    "        print(f\"Stopping pagination: {e}\")\n",
    "        # If pagination stops with no message, there are no more pages\n",
    "        break"
   ]
  },
  {
   "cell_type": "code",
   "execution_count": 8,
   "metadata": {},
   "outputs": [],
   "source": [
    "# Step 7: Convert the extracted data to a DataFrame\n",
    "df0 = pd.DataFrame(all_results, columns=headers)"
   ]
  },
  {
   "cell_type": "code",
   "execution_count": 9,
   "metadata": {},
   "outputs": [
    {
     "data": {
      "text/html": [
       "<div>\n",
       "<style scoped>\n",
       "    .dataframe tbody tr th:only-of-type {\n",
       "        vertical-align: middle;\n",
       "    }\n",
       "\n",
       "    .dataframe tbody tr th {\n",
       "        vertical-align: top;\n",
       "    }\n",
       "\n",
       "    .dataframe thead th {\n",
       "        text-align: right;\n",
       "    }\n",
       "</style>\n",
       "<table border=\"1\" class=\"dataframe\">\n",
       "  <thead>\n",
       "    <tr style=\"text-align: right;\">\n",
       "      <th></th>\n",
       "      <th>Place</th>\n",
       "      <th>Bib</th>\n",
       "      <th>Name</th>\n",
       "      <th>Country</th>\n",
       "      <th>Time</th>\n",
       "      <th>Age Group</th>\n",
       "      <th>Age Group Place</th>\n",
       "      <th>Gender Place</th>\n",
       "      <th>Age Group Gender Place</th>\n",
       "      <th>Enrollment</th>\n",
       "    </tr>\n",
       "  </thead>\n",
       "  <tbody>\n",
       "    <tr>\n",
       "      <th>0</th>\n",
       "      <td>1</td>\n",
       "      <td>4029</td>\n",
       "      <td>Youssouf Mahamat Allamine Tahir</td>\n",
       "      <td>TD</td>\n",
       "      <td>14:45</td>\n",
       "      <td>30 - 34</td>\n",
       "      <td>1 / 697</td>\n",
       "      <td>1 / 3087</td>\n",
       "      <td>1 / 367</td>\n",
       "      <td>Run / Walk</td>\n",
       "    </tr>\n",
       "    <tr>\n",
       "      <th>1</th>\n",
       "      <td>2</td>\n",
       "      <td>9484</td>\n",
       "      <td>Jhan Carlos</td>\n",
       "      <td>CO</td>\n",
       "      <td>14:45</td>\n",
       "      <td>20 - 24</td>\n",
       "      <td>1 / 288</td>\n",
       "      <td>2 / 3087</td>\n",
       "      <td>1 / 161</td>\n",
       "      <td>Run / Walk</td>\n",
       "    </tr>\n",
       "    <tr>\n",
       "      <th>2</th>\n",
       "      <td>3</td>\n",
       "      <td></td>\n",
       "      <td>Nyasha Dzivai</td>\n",
       "      <td>ZA</td>\n",
       "      <td>14:45</td>\n",
       "      <td>35 - 39</td>\n",
       "      <td>1 / 900</td>\n",
       "      <td>3 / 3087</td>\n",
       "      <td>1 / 469</td>\n",
       "      <td>Run / Walk</td>\n",
       "    </tr>\n",
       "    <tr>\n",
       "      <th>3</th>\n",
       "      <td>4</td>\n",
       "      <td>16843</td>\n",
       "      <td>Chadwick Pridgen</td>\n",
       "      <td>US</td>\n",
       "      <td>14:45</td>\n",
       "      <td>40 - 44</td>\n",
       "      <td>1 / 926</td>\n",
       "      <td>4 / 3087</td>\n",
       "      <td>1 / 498</td>\n",
       "      <td>Run / Walk</td>\n",
       "    </tr>\n",
       "    <tr>\n",
       "      <th>4</th>\n",
       "      <td>5</td>\n",
       "      <td>17013</td>\n",
       "      <td>Neftali Pérez</td>\n",
       "      <td>VE</td>\n",
       "      <td>14:45</td>\n",
       "      <td>50 - 54</td>\n",
       "      <td>1 / 608</td>\n",
       "      <td>5 / 3087</td>\n",
       "      <td>1 / 319</td>\n",
       "      <td>Run / Walk</td>\n",
       "    </tr>\n",
       "  </tbody>\n",
       "</table>\n",
       "</div>"
      ],
      "text/plain": [
       "  Place    Bib                             Name Country   Time Age Group  \\\n",
       "0     1   4029  Youssouf Mahamat Allamine Tahir      TD  14:45   30 - 34   \n",
       "1     2   9484                      Jhan Carlos      CO  14:45   20 - 24   \n",
       "2     3                           Nyasha Dzivai      ZA  14:45   35 - 39   \n",
       "3     4  16843                 Chadwick Pridgen      US  14:45   40 - 44   \n",
       "4     5  17013                    Neftali Pérez      VE  14:45   50 - 54   \n",
       "\n",
       "  Age Group Place Gender Place Age Group Gender Place  Enrollment  \n",
       "0         1 / 697     1 / 3087                1 / 367  Run / Walk  \n",
       "1         1 / 288     2 / 3087                1 / 161  Run / Walk  \n",
       "2         1 / 900     3 / 3087                1 / 469  Run / Walk  \n",
       "3         1 / 926     4 / 3087                1 / 498  Run / Walk  \n",
       "4         1 / 608     5 / 3087                1 / 319  Run / Walk  "
      ]
     },
     "execution_count": 9,
     "metadata": {},
     "output_type": "execute_result"
    }
   ],
   "source": [
    "# Verify the columns and data\n",
    "df0.head()"
   ]
  },
  {
   "cell_type": "code",
   "execution_count": 10,
   "metadata": {},
   "outputs": [
    {
     "name": "stdout",
     "output_type": "stream",
     "text": [
      "<class 'pandas.core.frame.DataFrame'>\n",
      "RangeIndex: 5743 entries, 0 to 5742\n",
      "Data columns (total 10 columns):\n",
      " #   Column                  Non-Null Count  Dtype \n",
      "---  ------                  --------------  ----- \n",
      " 0   Place                   5743 non-null   object\n",
      " 1   Bib                     5743 non-null   object\n",
      " 2   Name                    5743 non-null   object\n",
      " 3   Country                 5743 non-null   object\n",
      " 4   Time                    5743 non-null   object\n",
      " 5   Age Group               5743 non-null   object\n",
      " 6   Age Group Place         5743 non-null   object\n",
      " 7   Gender Place            5743 non-null   object\n",
      " 8   Age Group Gender Place  5743 non-null   object\n",
      " 9   Enrollment              5743 non-null   object\n",
      "dtypes: object(10)\n",
      "memory usage: 448.8+ KB\n"
     ]
    }
   ],
   "source": [
    "# Check the data types and non-null values\n",
    "df0.info()"
   ]
  },
  {
   "cell_type": "code",
   "execution_count": 11,
   "metadata": {},
   "outputs": [],
   "source": [
    "# Ensure Place columns are treated as text by prepending an apostrophe\n",
    "df0['Gender Place'] = df0['Gender Place'].apply(lambda x: f\"'{x}\")\n",
    "df0['Age Group Place'] = df0['Age Group Place'].apply(lambda x: f\"'{x}\")\n",
    "df0['Age Group Gender Place'] = df0['Age Group Gender Place'].apply(lambda x: f\"'{x}\")"
   ]
  },
  {
   "cell_type": "code",
   "execution_count": 12,
   "metadata": {},
   "outputs": [],
   "source": [
    "# Normalize the Time column to ensure a consistent format\n",
    "def normalize_time(time_str):\n",
    "    parts = time_str.split(':')\n",
    "    if len(parts) == 2:  # mm:ss\n",
    "        return f\"00:{time_str}\"\n",
    "    elif len(parts) == 3:  # h:mm:ss\n",
    "        return time_str\n",
    "    else:\n",
    "        return time_str  # Return as is if not in the expected format\n",
    "\n",
    "df0['Time'] = df0['Time'].apply(normalize_time)"
   ]
  },
  {
   "cell_type": "code",
   "execution_count": 13,
   "metadata": {},
   "outputs": [
    {
     "data": {
      "text/html": [
       "<div>\n",
       "<style scoped>\n",
       "    .dataframe tbody tr th:only-of-type {\n",
       "        vertical-align: middle;\n",
       "    }\n",
       "\n",
       "    .dataframe tbody tr th {\n",
       "        vertical-align: top;\n",
       "    }\n",
       "\n",
       "    .dataframe thead th {\n",
       "        text-align: right;\n",
       "    }\n",
       "</style>\n",
       "<table border=\"1\" class=\"dataframe\">\n",
       "  <thead>\n",
       "    <tr style=\"text-align: right;\">\n",
       "      <th></th>\n",
       "      <th>Place</th>\n",
       "      <th>Bib</th>\n",
       "      <th>Name</th>\n",
       "      <th>Country</th>\n",
       "      <th>Time</th>\n",
       "      <th>Age Group</th>\n",
       "      <th>Age Group Place</th>\n",
       "      <th>Gender Place</th>\n",
       "      <th>Age Group Gender Place</th>\n",
       "      <th>Enrollment</th>\n",
       "    </tr>\n",
       "  </thead>\n",
       "  <tbody>\n",
       "    <tr>\n",
       "      <th>0</th>\n",
       "      <td>1</td>\n",
       "      <td>4029</td>\n",
       "      <td>Youssouf Mahamat Allamine Tahir</td>\n",
       "      <td>TD</td>\n",
       "      <td>00:14:45</td>\n",
       "      <td>30 - 34</td>\n",
       "      <td>'1 / 697</td>\n",
       "      <td>'1 / 3087</td>\n",
       "      <td>'1 / 367</td>\n",
       "      <td>Run / Walk</td>\n",
       "    </tr>\n",
       "    <tr>\n",
       "      <th>1</th>\n",
       "      <td>2</td>\n",
       "      <td>9484</td>\n",
       "      <td>Jhan Carlos</td>\n",
       "      <td>CO</td>\n",
       "      <td>00:14:45</td>\n",
       "      <td>20 - 24</td>\n",
       "      <td>'1 / 288</td>\n",
       "      <td>'2 / 3087</td>\n",
       "      <td>'1 / 161</td>\n",
       "      <td>Run / Walk</td>\n",
       "    </tr>\n",
       "    <tr>\n",
       "      <th>2</th>\n",
       "      <td>3</td>\n",
       "      <td></td>\n",
       "      <td>Nyasha Dzivai</td>\n",
       "      <td>ZA</td>\n",
       "      <td>00:14:45</td>\n",
       "      <td>35 - 39</td>\n",
       "      <td>'1 / 900</td>\n",
       "      <td>'3 / 3087</td>\n",
       "      <td>'1 / 469</td>\n",
       "      <td>Run / Walk</td>\n",
       "    </tr>\n",
       "    <tr>\n",
       "      <th>3</th>\n",
       "      <td>4</td>\n",
       "      <td>16843</td>\n",
       "      <td>Chadwick Pridgen</td>\n",
       "      <td>US</td>\n",
       "      <td>00:14:45</td>\n",
       "      <td>40 - 44</td>\n",
       "      <td>'1 / 926</td>\n",
       "      <td>'4 / 3087</td>\n",
       "      <td>'1 / 498</td>\n",
       "      <td>Run / Walk</td>\n",
       "    </tr>\n",
       "    <tr>\n",
       "      <th>4</th>\n",
       "      <td>5</td>\n",
       "      <td>17013</td>\n",
       "      <td>Neftali Pérez</td>\n",
       "      <td>VE</td>\n",
       "      <td>00:14:45</td>\n",
       "      <td>50 - 54</td>\n",
       "      <td>'1 / 608</td>\n",
       "      <td>'5 / 3087</td>\n",
       "      <td>'1 / 319</td>\n",
       "      <td>Run / Walk</td>\n",
       "    </tr>\n",
       "  </tbody>\n",
       "</table>\n",
       "</div>"
      ],
      "text/plain": [
       "  Place    Bib                             Name Country      Time Age Group  \\\n",
       "0     1   4029  Youssouf Mahamat Allamine Tahir      TD  00:14:45   30 - 34   \n",
       "1     2   9484                      Jhan Carlos      CO  00:14:45   20 - 24   \n",
       "2     3                           Nyasha Dzivai      ZA  00:14:45   35 - 39   \n",
       "3     4  16843                 Chadwick Pridgen      US  00:14:45   40 - 44   \n",
       "4     5  17013                    Neftali Pérez      VE  00:14:45   50 - 54   \n",
       "\n",
       "  Age Group Place Gender Place Age Group Gender Place  Enrollment  \n",
       "0        '1 / 697    '1 / 3087               '1 / 367  Run / Walk  \n",
       "1        '1 / 288    '2 / 3087               '1 / 161  Run / Walk  \n",
       "2        '1 / 900    '3 / 3087               '1 / 469  Run / Walk  \n",
       "3        '1 / 926    '4 / 3087               '1 / 498  Run / Walk  \n",
       "4        '1 / 608    '5 / 3087               '1 / 319  Run / Walk  "
      ]
     },
     "execution_count": 13,
     "metadata": {},
     "output_type": "execute_result"
    }
   ],
   "source": [
    "# Verify the columns and data again after normalization\n",
    "df0.head()"
   ]
  },
  {
   "cell_type": "code",
   "execution_count": 14,
   "metadata": {},
   "outputs": [
    {
     "name": "stdout",
     "output_type": "stream",
     "text": [
      "<class 'pandas.core.frame.DataFrame'>\n",
      "RangeIndex: 5743 entries, 0 to 5742\n",
      "Data columns (total 10 columns):\n",
      " #   Column                  Non-Null Count  Dtype \n",
      "---  ------                  --------------  ----- \n",
      " 0   Place                   5743 non-null   object\n",
      " 1   Bib                     5743 non-null   object\n",
      " 2   Name                    5743 non-null   object\n",
      " 3   Country                 5743 non-null   object\n",
      " 4   Time                    5743 non-null   object\n",
      " 5   Age Group               5743 non-null   object\n",
      " 6   Age Group Place         5743 non-null   object\n",
      " 7   Gender Place            5743 non-null   object\n",
      " 8   Age Group Gender Place  5743 non-null   object\n",
      " 9   Enrollment              5743 non-null   object\n",
      "dtypes: object(10)\n",
      "memory usage: 448.8+ KB\n"
     ]
    }
   ],
   "source": [
    "# Check the data types and non-null values again\n",
    "df0.info()"
   ]
  },
  {
   "cell_type": "code",
   "execution_count": 15,
   "metadata": {},
   "outputs": [],
   "source": [
    "# Step 8: Save the DataFrame to a CSV file without the index\n",
    "df0.to_csv('ADA_race_results.csv', index=False)"
   ]
  },
  {
   "cell_type": "code",
   "execution_count": 16,
   "metadata": {},
   "outputs": [],
   "source": [
    "# Step 9: Close the WebDriver\n",
    "driver.quit()"
   ]
  }
 ],
 "metadata": {
  "kernelspec": {
   "display_name": "Python 3",
   "language": "python",
   "name": "python3"
  },
  "language_info": {
   "codemirror_mode": {
    "name": "ipython",
    "version": 3
   },
   "file_extension": ".py",
   "mimetype": "text/x-python",
   "name": "python",
   "nbconvert_exporter": "python",
   "pygments_lexer": "ipython3",
   "version": "3.12.4"
  }
 },
 "nbformat": 4,
 "nbformat_minor": 2
}
